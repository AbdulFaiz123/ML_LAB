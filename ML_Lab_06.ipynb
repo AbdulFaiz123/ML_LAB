{
  "nbformat": 4,
  "nbformat_minor": 0,
  "metadata": {
    "colab": {
      "name": "ML_Lab_06.ipynb",
      "provenance": [],
      "collapsed_sections": [],
      "mount_file_id": "1cvHwiMYFcJj0S8KxYZt9RDCDD9gm9FgC",
      "authorship_tag": "ABX9TyOKBXHbzUJAWF4Qjg4K9Z3i",
      "include_colab_link": true
    },
    "kernelspec": {
      "name": "python3",
      "display_name": "Python 3"
    }
  },
  "cells": [
    {
      "cell_type": "markdown",
      "metadata": {
        "id": "view-in-github",
        "colab_type": "text"
      },
      "source": [
        "<a href=\"https://colab.research.google.com/github/AbdulFaiz123/ML_LAB/blob/main/ML_Lab_06.ipynb\" target=\"_parent\"><img src=\"https://colab.research.google.com/assets/colab-badge.svg\" alt=\"Open In Colab\"/></a>"
      ]
    },
    {
      "cell_type": "code",
      "metadata": {
        "colab": {
          "base_uri": "https://localhost:8080/"
        },
        "id": "IeM_htqBw5h0",
        "outputId": "59d62234-95e4-425d-a380-6c6e4b0af3b7"
      },
      "source": [
        "from google.colab import drive\r\n",
        "drive.mount('/content/drive')"
      ],
      "execution_count": 1,
      "outputs": [
        {
          "output_type": "stream",
          "text": [
            "Mounted at /content/drive\n"
          ],
          "name": "stdout"
        }
      ]
    },
    {
      "cell_type": "code",
      "metadata": {
        "id": "txCvpccu1PHx"
      },
      "source": [
        "import pandas as pd\r\n",
        "msg=pd.read_csv('/content/drive/My Drive/ML_CSV/lab6_2.csv',names=['message','label'])"
      ],
      "execution_count": 2,
      "outputs": []
    },
    {
      "cell_type": "code",
      "metadata": {
        "colab": {
          "base_uri": "https://localhost:8080/",
          "height": 195
        },
        "id": "2UIt6eCA1bww",
        "outputId": "110cfb03-7c76-4133-a1d2-cd1e833cad1e"
      },
      "source": [
        "msg.head(5)"
      ],
      "execution_count": 5,
      "outputs": [
        {
          "output_type": "execute_result",
          "data": {
            "text/html": [
              "<div>\n",
              "<style scoped>\n",
              "    .dataframe tbody tr th:only-of-type {\n",
              "        vertical-align: middle;\n",
              "    }\n",
              "\n",
              "    .dataframe tbody tr th {\n",
              "        vertical-align: top;\n",
              "    }\n",
              "\n",
              "    .dataframe thead th {\n",
              "        text-align: right;\n",
              "    }\n",
              "</style>\n",
              "<table border=\"1\" class=\"dataframe\">\n",
              "  <thead>\n",
              "    <tr style=\"text-align: right;\">\n",
              "      <th></th>\n",
              "      <th>message</th>\n",
              "      <th>label</th>\n",
              "    </tr>\n",
              "  </thead>\n",
              "  <tbody>\n",
              "    <tr>\n",
              "      <th>0</th>\n",
              "      <td>I love this sandwich</td>\n",
              "      <td>pos</td>\n",
              "    </tr>\n",
              "    <tr>\n",
              "      <th>1</th>\n",
              "      <td>This is an amazing place</td>\n",
              "      <td>pos</td>\n",
              "    </tr>\n",
              "    <tr>\n",
              "      <th>2</th>\n",
              "      <td>I feel very good about these beers</td>\n",
              "      <td>pos</td>\n",
              "    </tr>\n",
              "    <tr>\n",
              "      <th>3</th>\n",
              "      <td>This is my best work</td>\n",
              "      <td>pos</td>\n",
              "    </tr>\n",
              "    <tr>\n",
              "      <th>4</th>\n",
              "      <td>What an awesome view</td>\n",
              "      <td>pos</td>\n",
              "    </tr>\n",
              "  </tbody>\n",
              "</table>\n",
              "</div>"
            ],
            "text/plain": [
              "                              message label\n",
              "0                I love this sandwich   pos\n",
              "1            This is an amazing place   pos\n",
              "2  I feel very good about these beers   pos\n",
              "3                This is my best work   pos\n",
              "4                What an awesome view   pos"
            ]
          },
          "metadata": {
            "tags": []
          },
          "execution_count": 5
        }
      ]
    },
    {
      "cell_type": "code",
      "metadata": {
        "id": "yphFjW5W1PKj"
      },
      "source": [
        "msg['labelnum']=msg.label.map({'pos':1,'neg':0})\r\n",
        "X=msg.message\r\n",
        "Y=msg.labelnum\r\n",
        "X5,Y5=X[0:5],msg.label[0:5]"
      ],
      "execution_count": 7,
      "outputs": []
    },
    {
      "cell_type": "code",
      "metadata": {
        "id": "N-nUGkJg1PNS"
      },
      "source": [
        "from sklearn.model_selection import train_test_split\r\n",
        "xtrain,xtest,ytrain,ytest=train_test_split(X,Y)"
      ],
      "execution_count": 8,
      "outputs": []
    },
    {
      "cell_type": "code",
      "metadata": {
        "id": "2o_BWRl51PR0"
      },
      "source": [
        "from sklearn.feature_extraction.text import CountVectorizer\r\n",
        "count_vect=CountVectorizer()\r\n",
        "xtrain_dtm=count_vect.fit_transform(xtrain)\r\n",
        "xtest_dtm=count_vect.transform(xtest)\r\n",
        "df=pd.DataFrame(xtrain_dtm.toarray(),columns=count_vect.get_feature_names())"
      ],
      "execution_count": 9,
      "outputs": []
    },
    {
      "cell_type": "code",
      "metadata": {
        "id": "XkZUgpjB1PUi"
      },
      "source": [
        "from sklearn.naive_bayes import MultinomialNB\r\n",
        "clf=MultinomialNB().fit(xtrain_dtm,ytrain)\r\n",
        "predicted=clf.predict(xtest_dtm)"
      ],
      "execution_count": 10,
      "outputs": []
    },
    {
      "cell_type": "code",
      "metadata": {
        "colab": {
          "base_uri": "https://localhost:8080/"
        },
        "id": "Ozm1ZK0M1PXc",
        "outputId": "b9d8524e-48ae-4a90-f39b-e43c44c8b181"
      },
      "source": [
        "from sklearn import metrics\r\n",
        "print('\\nAcucuracy metrics')\r\n",
        "print('Accuracy of the classifier is')\r\n",
        "print(metrics.accuracy_score(ytest,predicted))\r\n",
        "print('Recall :',metrics.recall_score(ytest,predicted))\r\n",
        "print('Precision:',metrics.precision_score(ytest,predicted))\r\n",
        "print('Confusion matrix')\r\n",
        "print(metrics.confusion_matrix(ytest,predicted))"
      ],
      "execution_count": 11,
      "outputs": [
        {
          "output_type": "stream",
          "text": [
            "\n",
            "Acucuracy metrics\n",
            "Accuracy of the classifier is\n",
            "0.6\n",
            "Recall : 0.3333333333333333\n",
            "Precision: 1.0\n",
            "Confusion matrix\n",
            "[[2 0]\n",
            " [2 1]]\n"
          ],
          "name": "stdout"
        }
      ]
    },
    {
      "cell_type": "code",
      "metadata": {
        "id": "KJbd-snT1Pa_"
      },
      "source": [
        ""
      ],
      "execution_count": null,
      "outputs": []
    },
    {
      "cell_type": "code",
      "metadata": {
        "id": "e6yEq1t81Pd2"
      },
      "source": [
        ""
      ],
      "execution_count": null,
      "outputs": []
    }
  ]
}