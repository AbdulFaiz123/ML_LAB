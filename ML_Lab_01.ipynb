{
  "nbformat": 4,
  "nbformat_minor": 0,
  "metadata": {
    "colab": {
      "name": "ML_Lab_01.ipynb",
      "provenance": [],
      "collapsed_sections": [],
      "mount_file_id": "1X7w08U6wLfdFTW6uNeCPk-IQq0g8ZXP6",
      "authorship_tag": "ABX9TyO94mKcid2i0YgXInwK8mct",
      "include_colab_link": true
    },
    "kernelspec": {
      "name": "python3",
      "display_name": "Python 3"
    }
  },
  "cells": [
    {
      "cell_type": "markdown",
      "metadata": {
        "id": "view-in-github",
        "colab_type": "text"
      },
      "source": [
        "<a href=\"https://colab.research.google.com/github/AbdulFaiz123/ML_LAB/blob/main/ML_Lab_01.ipynb\" target=\"_parent\"><img src=\"https://colab.research.google.com/assets/colab-badge.svg\" alt=\"Open In Colab\"/></a>"
      ]
    },
    {
      "cell_type": "code",
      "metadata": {
        "id": "HWk7iimsWTrN"
      },
      "source": [
        "import csv"
      ],
      "execution_count": null,
      "outputs": []
    },
    {
      "cell_type": "code",
      "metadata": {
        "colab": {
          "base_uri": "https://localhost:8080/"
        },
        "id": "DUh43xw5bn0W",
        "outputId": "32c27af6-43be-4c70-8992-159ad7d12d56"
      },
      "source": [
        "a = []\r\n",
        "with open(\"drive/MyDrive/ML_CSV/lab1.csv\") as csfile:\r\n",
        "  reader = csv.reader(csfile)\r\n",
        "  for row in reader:\r\n",
        "    a.append(row)\r\n",
        "    print(row)\r\n",
        "\r\n",
        "num_attributes = len(a[0])-1\r\n",
        "num_attributes"
      ],
      "execution_count": null,
      "outputs": [
        {
          "output_type": "stream",
          "text": [
            "['sunny', 'warm', 'normal', 'strong', 'warm ', 'same ', 'yes']\n",
            "['sunny', 'warm', 'high', 'strong', 'warm ', 'same ', 'yes']\n",
            "['rainy', 'cold', 'high', 'strong', 'warm ', 'change', 'no']\n",
            "['sunny', 'warm', 'high', 'strong', 'cool', 'change', 'yes']\n"
          ],
          "name": "stdout"
        },
        {
          "output_type": "execute_result",
          "data": {
            "text/plain": [
              "6"
            ]
          },
          "metadata": {
            "tags": []
          },
          "execution_count": 7
        }
      ]
    },
    {
      "cell_type": "code",
      "metadata": {
        "colab": {
          "base_uri": "https://localhost:8080/"
        },
        "id": "z0o-l0nEbn3b",
        "outputId": "dbc2b301-0bb3-451b-de9c-ff4ad705efba"
      },
      "source": [
        "gen_hypothesis = ['?']*num_attributes\r\n",
        "sp_hypothesis = ['0']*num_attributes\r\n",
        "print(\"the Most General Hypothesis\",gen_hypothesis)\r\n",
        "print(\"the Most specific Hypothesis\",sp_hypothesis)"
      ],
      "execution_count": null,
      "outputs": [
        {
          "output_type": "stream",
          "text": [
            "the Most General Hypothesis ['?', '?', '?', '?', '?', '?']\n",
            "the Most specific Hypothesis ['0', '0', '0', '0', '0', '0']\n"
          ],
          "name": "stdout"
        }
      ]
    },
    {
      "cell_type": "code",
      "metadata": {
        "colab": {
          "base_uri": "https://localhost:8080/"
        },
        "id": "HbS08nebbn6b",
        "outputId": "0dfffe55-b901-48bd-822f-d061380c866a"
      },
      "source": [
        "hypothesis = a[0][:-1]\r\n",
        "for i in range(len(a)):\r\n",
        "  if a[i][num_attributes]=='yes':\r\n",
        "    for j in range(num_attributes):\r\n",
        "      if a[i][j]!=hypothesis[j]:\r\n",
        "        hypothesis[j] = '?'\r\n",
        "  print(\"The Example No\",i+1,\"The hypothesis is\",hypothesis)"
      ],
      "execution_count": null,
      "outputs": [
        {
          "output_type": "stream",
          "text": [
            "The Example No 1 The hypothesis is ['sunny', 'warm', 'normal', 'strong', 'warm ', 'same ']\n",
            "The Example No 2 The hypothesis is ['sunny', 'warm', '?', 'strong', 'warm ', 'same ']\n",
            "The Example No 3 The hypothesis is ['sunny', 'warm', '?', 'strong', 'warm ', 'same ']\n",
            "The Example No 4 The hypothesis is ['sunny', 'warm', '?', 'strong', '?', '?']\n"
          ],
          "name": "stdout"
        }
      ]
    },
    {
      "cell_type": "code",
      "metadata": {
        "id": "RKddlotZbn9s"
      },
      "source": [
        ""
      ],
      "execution_count": null,
      "outputs": []
    }
  ]
}