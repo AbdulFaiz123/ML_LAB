{
  "nbformat": 4,
  "nbformat_minor": 0,
  "metadata": {
    "colab": {
      "name": "ML_Lab_02.ipynb",
      "provenance": [],
      "collapsed_sections": [],
      "authorship_tag": "ABX9TyNMCWjfYd9Qb+e+Pl7DhWJp",
      "include_colab_link": true
    },
    "kernelspec": {
      "name": "python3",
      "display_name": "Python 3"
    }
  },
  "cells": [
    {
      "cell_type": "markdown",
      "metadata": {
        "id": "view-in-github",
        "colab_type": "text"
      },
      "source": [
        "<a href=\"https://colab.research.google.com/github/AbdulFaiz123/ML_LAB/blob/main/ML_Lab_02.ipynb\" target=\"_parent\"><img src=\"https://colab.research.google.com/assets/colab-badge.svg\" alt=\"Open In Colab\"/></a>"
      ]
    },
    {
      "cell_type": "code",
      "metadata": {
        "id": "rUUJQMA490tO"
      },
      "source": [
        "from google.colab import drive"
      ],
      "execution_count": 1,
      "outputs": []
    },
    {
      "cell_type": "code",
      "metadata": {
        "colab": {
          "base_uri": "https://localhost:8080/"
        },
        "id": "yUGmkC1r_FlV",
        "outputId": "23dc62d7-fda1-41af-c651-807693e20180"
      },
      "source": [
        "drive.mount('/content/drive')"
      ],
      "execution_count": 3,
      "outputs": [
        {
          "output_type": "stream",
          "text": [
            "Mounted at /content/drive\n"
          ],
          "name": "stdout"
        }
      ]
    },
    {
      "cell_type": "code",
      "metadata": {
        "id": "v1kFWTkb_F7u"
      },
      "source": [
        "import numpy as np\r\n",
        "import pandas as pd"
      ],
      "execution_count": 4,
      "outputs": []
    },
    {
      "cell_type": "code",
      "metadata": {
        "id": "ATOJ17me_GAU"
      },
      "source": [
        "data = pd.DataFrame(data=pd.read_csv('drive/MyDrive/ML_CSV/lab2_1.csv'))"
      ],
      "execution_count": 13,
      "outputs": []
    },
    {
      "cell_type": "code",
      "metadata": {
        "id": "caiyd9Jo_GH8"
      },
      "source": [
        "concepts = np.array(data.iloc[:,0:-1])\r\n",
        "target = np.array(data.iloc[:,-1])"
      ],
      "execution_count": 30,
      "outputs": []
    },
    {
      "cell_type": "code",
      "metadata": {
        "colab": {
          "base_uri": "https://localhost:8080/"
        },
        "id": "DPUBnDPP_GJu",
        "outputId": "438010bb-773a-4a5d-c945-a2ff32abd616"
      },
      "source": [
        "def learn(concepts,target):\r\n",
        "  specific_h = concepts[0].copy()\r\n",
        "  print(\"\\n\\t\\t\\t\\t\\t\\tinitialization of specific_h and general_h\\n\")\r\n",
        "  print(specific_h)\r\n",
        "  general_h = [[\"?\" for i in range(len(specific_h))] for i in range(len(specific_h))]\r\n",
        "  print(general_h)\r\n",
        "  for i,h in enumerate(concepts):\r\n",
        "    if target[i] == \"Y\":\r\n",
        "      for x in range(len(specific_h)):\r\n",
        "        if h[x]!=specific_h[x]:\r\n",
        "          specific_h[x]='?'\r\n",
        "          general_h[x][x]='?'\r\n",
        "    if target[i] == \"N\":\r\n",
        "      for x in range(len(specific_h)):\r\n",
        "        if h[x]!=specific_h[x]:\r\n",
        "          general_h[x][x] = specific_h[x]\r\n",
        "        else:\r\n",
        "          general_h[x][x]='?'\r\n",
        "      print(\"steps of candidate elimination Algorithm\",i+1)\r\n",
        "      print(specific_h)\r\n",
        "      print(general_h)\r\n",
        "  indices = [i for i,val in enumerate(general_h) if val==['?','?','?','?','?','?']]\r\n",
        "  for i in indices:\r\n",
        "    general_h.remove(['?','?','?','?','?','?'])\r\n",
        "  return specific_h,general_h\r\n",
        "s_final,g_final = learn(concepts,target)\r\n",
        "print(\"\\n\\n\\nfinal specific_h:\",s_final,sep=\"\\n\")\r\n",
        "print(\"\\n\\n\\nfinal general_h:\",g_final,sep=\"\\n\")\r\n",
        "\r\n",
        "    \r\n"
      ],
      "execution_count": 44,
      "outputs": [
        {
          "output_type": "stream",
          "text": [
            "\n",
            "\t\t\t\t\t\tinitialization of specific_h and general_h\n",
            "\n",
            "['sunny' 'warm' 'normal' 'strong' 'warm ' 'same ']\n",
            "[['?', '?', '?', '?', '?', '?'], ['?', '?', '?', '?', '?', '?'], ['?', '?', '?', '?', '?', '?'], ['?', '?', '?', '?', '?', '?'], ['?', '?', '?', '?', '?', '?'], ['?', '?', '?', '?', '?', '?']]\n",
            "steps of candidate elimination Algorithm 3\n",
            "['sunny' 'warm' '?' 'strong' 'warm ' 'same ']\n",
            "[['sunny', '?', '?', '?', '?', '?'], ['?', 'warm', '?', '?', '?', '?'], ['?', '?', '?', '?', '?', '?'], ['?', '?', '?', '?', '?', '?'], ['?', '?', '?', '?', '?', '?'], ['?', '?', '?', '?', '?', 'same ']]\n",
            "\n",
            "\n",
            "\n",
            "final specific_h:\n",
            "['sunny' 'warm' '?' 'strong' '?' '?']\n",
            "\n",
            "\n",
            "\n",
            "final general_h:\n",
            "[['sunny', '?', '?', '?', '?', '?'], ['?', 'warm', '?', '?', '?', '?']]\n"
          ],
          "name": "stdout"
        }
      ]
    },
    {
      "cell_type": "code",
      "metadata": {
        "id": "mgR5GJcC_GN5"
      },
      "source": [
        ""
      ],
      "execution_count": 44,
      "outputs": []
    },
    {
      "cell_type": "code",
      "metadata": {
        "id": "Gkyus5ua_GP6"
      },
      "source": [
        ""
      ],
      "execution_count": null,
      "outputs": []
    },
    {
      "cell_type": "code",
      "metadata": {
        "id": "4oFdH6WT_GUE"
      },
      "source": [
        ""
      ],
      "execution_count": null,
      "outputs": []
    },
    {
      "cell_type": "code",
      "metadata": {
        "id": "kCUk0zBy_GWr"
      },
      "source": [
        ""
      ],
      "execution_count": null,
      "outputs": []
    },
    {
      "cell_type": "code",
      "metadata": {
        "id": "7eSGtrxY_GZt"
      },
      "source": [
        ""
      ],
      "execution_count": null,
      "outputs": []
    },
    {
      "cell_type": "code",
      "metadata": {
        "id": "xjp4ZXVQ_Gcf"
      },
      "source": [
        ""
      ],
      "execution_count": null,
      "outputs": []
    },
    {
      "cell_type": "code",
      "metadata": {
        "id": "yWcUKKBu_GoC"
      },
      "source": [
        ""
      ],
      "execution_count": null,
      "outputs": []
    }
  ]
}