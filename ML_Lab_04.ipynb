{
  "nbformat": 4,
  "nbformat_minor": 0,
  "metadata": {
    "colab": {
      "name": "ML_Lab_04.ipynb",
      "provenance": [],
      "authorship_tag": "ABX9TyOt0q4ML21ghcYHryG0VC9F",
      "include_colab_link": true
    },
    "kernelspec": {
      "name": "python3",
      "display_name": "Python 3"
    }
  },
  "cells": [
    {
      "cell_type": "markdown",
      "metadata": {
        "id": "view-in-github",
        "colab_type": "text"
      },
      "source": [
        "<a href=\"https://colab.research.google.com/github/AbdulFaiz123/ML_LAB/blob/main/ML_Lab_04.ipynb\" target=\"_parent\"><img src=\"https://colab.research.google.com/assets/colab-badge.svg\" alt=\"Open In Colab\"/></a>"
      ]
    },
    {
      "cell_type": "code",
      "metadata": {
        "id": "lrw5PcxcmkTp"
      },
      "source": [
        "import numpy as np\r\n",
        "X = np.array(([2,9],[1,5],[3,6]),dtype=float)\r\n",
        "y = np.array(([92],[86],[89]),dtype=float)\r\n",
        "X=X/np.amax(X,axis=0)\r\n",
        "y=y/100\r\n"
      ],
      "execution_count": 1,
      "outputs": []
    },
    {
      "cell_type": "code",
      "metadata": {
        "id": "w0EYLGc0pPJr"
      },
      "source": [
        "def sigmoid(x):\r\n",
        "    return 1/(1+np.exp(-x))\r\n"
      ],
      "execution_count": 2,
      "outputs": []
    },
    {
      "cell_type": "code",
      "metadata": {
        "id": "S-SyKZ2YpPNJ"
      },
      "source": [
        "def derivatives_sigmoid(x):\r\n",
        "    return x*(1-x)\r\n"
      ],
      "execution_count": 3,
      "outputs": []
    },
    {
      "cell_type": "code",
      "metadata": {
        "id": "N-xcUPOtpPQi"
      },
      "source": [
        "epoch=20\r\n",
        "learning_rate=0.1\r\n",
        "inputlayer_neurons=2\r\n",
        "hiddenlayer_neurons=3\r\n",
        "outputlayer_neurons=1\r\n",
        "#Weight of Hidden layer\r\n",
        "wh=np.random.uniform(size=(inputlayer_neurons,hiddenlayer_neurons))\r\n",
        "#Bias Hidden Layer\r\n",
        "bh=np.random.uniform(size=(1,hiddenlayer_neurons))\r\n",
        "#Weight of output layer\r\n",
        "wo=np.random.uniform(size=(hiddenlayer_neurons,outputlayer_neurons))\r\n",
        "#Bias of output layer\r\n",
        "bo=np.random.uniform(size=(1,outputlayer_neurons))\r\n"
      ],
      "execution_count": 21,
      "outputs": []
    },
    {
      "cell_type": "code",
      "metadata": {
        "colab": {
          "base_uri": "https://localhost:8080/"
        },
        "id": "39zd1Qopqieq",
        "outputId": "c344981e-23a0-40d3-e374-32a02c95549b"
      },
      "source": [
        "#tarining\r\n",
        "for i in range(epoch):\r\n",
        "  #Sum of(input * weight in hidden layer)+bias of hidden\r\n",
        "    net_h=np.dot(X,wh)+bh\r\n",
        "   #Apply Activation Function\r\n",
        "    sigma_h=sigmoid(net_h)\r\n",
        "    #Input to o/p layer = (O/P of Hidden layer * weight of O/P layer)+\r\n",
        "    #bias of o/p layer\r\n",
        "    net_o=np.dot(sigma_h,wo)+bo\r\n",
        "    #apply activation Function\r\n",
        "    output=sigmoid(net_o)\r\n",
        "   #Finding Deltas(cost Function Implementation)\r\n",
        "   #Delta of o/p layer\r\n",
        "    deltaK=(y-output)*derivatives_sigmoid(output)\r\n",
        "    #delta of hidden layer\r\n",
        "    deltaH=deltaK.dot(wo.T)*derivatives_sigmoid(sigma_h)\r\n",
        "   #update the weights\r\n",
        "    wo=wo+sigma_h.T.dot(deltaK)*learning_rate\r\n",
        "    wh=wh+X.T.dot(deltaH)*learning_rate\r\n",
        "   \r\n",
        "    error=sum(deltaK)**2/len(deltaK)\r\n",
        "   \r\n",
        "    print('Epoch -> {0}, lrate -> {1}, error -> {2}'.format(i,learning_rate,error))"
      ],
      "execution_count": 22,
      "outputs": [
        {
          "output_type": "stream",
          "text": [
            "Epoch -> 0, lrate -> 0.1, error -> [0.00010949]\n",
            "Epoch -> 1, lrate -> 0.1, error -> [0.00010678]\n",
            "Epoch -> 2, lrate -> 0.1, error -> [0.00010416]\n",
            "Epoch -> 3, lrate -> 0.1, error -> [0.00010161]\n",
            "Epoch -> 4, lrate -> 0.1, error -> [9.91417421e-05]\n",
            "Epoch -> 5, lrate -> 0.1, error -> [9.67449192e-05]\n",
            "Epoch -> 6, lrate -> 0.1, error -> [9.44187661e-05]\n",
            "Epoch -> 7, lrate -> 0.1, error -> [9.21607723e-05]\n",
            "Epoch -> 8, lrate -> 0.1, error -> [8.99685324e-05]\n",
            "Epoch -> 9, lrate -> 0.1, error -> [8.7839741e-05]\n",
            "Epoch -> 10, lrate -> 0.1, error -> [8.5772188e-05]\n",
            "Epoch -> 11, lrate -> 0.1, error -> [8.37637538e-05]\n",
            "Epoch -> 12, lrate -> 0.1, error -> [8.18124053e-05]\n",
            "Epoch -> 13, lrate -> 0.1, error -> [7.99161917e-05]\n",
            "Epoch -> 14, lrate -> 0.1, error -> [7.80732406e-05]\n",
            "Epoch -> 15, lrate -> 0.1, error -> [7.62817546e-05]\n",
            "Epoch -> 16, lrate -> 0.1, error -> [7.45400077e-05]\n",
            "Epoch -> 17, lrate -> 0.1, error -> [7.28463418e-05]\n",
            "Epoch -> 18, lrate -> 0.1, error -> [7.11991642e-05]\n",
            "Epoch -> 19, lrate -> 0.1, error -> [6.95969441e-05]\n"
          ],
          "name": "stdout"
        }
      ]
    },
    {
      "cell_type": "code",
      "metadata": {
        "colab": {
          "base_uri": "https://localhost:8080/"
        },
        "id": "zw5k9q02pPhm",
        "outputId": "28918063-aadf-4fcb-c2d8-d9df7a2ae9cb"
      },
      "source": [
        "print(\"Input:\\n\"+str(X))"
      ],
      "execution_count": 23,
      "outputs": [
        {
          "output_type": "stream",
          "text": [
            "Input:\n",
            "[[0.66666667 1.        ]\n",
            " [0.33333333 0.55555556]\n",
            " [1.         0.66666667]]\n"
          ],
          "name": "stdout"
        }
      ]
    },
    {
      "cell_type": "code",
      "metadata": {
        "colab": {
          "base_uri": "https://localhost:8080/"
        },
        "id": "EB0yC7UopPlf",
        "outputId": "ff702e3f-7a80-49ae-e7b6-217b90534223"
      },
      "source": [
        "print(\"Actual Output:\\n\"+str(y))"
      ],
      "execution_count": 24,
      "outputs": [
        {
          "output_type": "stream",
          "text": [
            "Actual Output:\n",
            "[[0.92]\n",
            " [0.86]\n",
            " [0.89]]\n"
          ],
          "name": "stdout"
        }
      ]
    },
    {
      "cell_type": "code",
      "metadata": {
        "colab": {
          "base_uri": "https://localhost:8080/"
        },
        "id": "7I2Z1ezKpPqm",
        "outputId": "fb895c4b-3831-4f0c-dbdf-23dc5d9cb341"
      },
      "source": [
        "print(\"Predicted Output:\\n\",output)"
      ],
      "execution_count": 25,
      "outputs": [
        {
          "output_type": "stream",
          "text": [
            "Predicted Output:\n",
            " [[0.85773489]\n",
            " [0.8377478 ]\n",
            " [0.85849695]]\n"
          ],
          "name": "stdout"
        }
      ]
    },
    {
      "cell_type": "code",
      "metadata": {
        "id": "5JNMq4AFpPx4"
      },
      "source": [
        ""
      ],
      "execution_count": null,
      "outputs": []
    }
  ]
}