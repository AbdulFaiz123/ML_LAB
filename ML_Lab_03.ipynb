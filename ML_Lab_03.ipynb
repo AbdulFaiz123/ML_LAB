{
  "nbformat": 4,
  "nbformat_minor": 0,
  "metadata": {
    "colab": {
      "name": "ML_Lab_03.ipynb",
      "provenance": [],
      "collapsed_sections": [],
      "mount_file_id": "1bXFVWE_dtuKNXanEi22UVm5xXcAq_ET2",
      "authorship_tag": "ABX9TyOHJLt4DnLGtVHazjN75lF8",
      "include_colab_link": true
    },
    "kernelspec": {
      "name": "python3",
      "display_name": "Python 3"
    }
  },
  "cells": [
    {
      "cell_type": "markdown",
      "metadata": {
        "id": "view-in-github",
        "colab_type": "text"
      },
      "source": [
        "<a href=\"https://colab.research.google.com/github/AbdulFaiz123/ML_LAB/blob/main/ML_Lab_03.ipynb\" target=\"_parent\"><img src=\"https://colab.research.google.com/assets/colab-badge.svg\" alt=\"Open In Colab\"/></a>"
      ]
    },
    {
      "cell_type": "code",
      "metadata": {
        "id": "4cyh-hXaKQv0"
      },
      "source": [
        "import pandas as pd\r\n",
        "from pandas import DataFrame\r\n",
        "df_tennis = pd.DataFrame(data=pd.read_csv('drive/MyDrive/ML_CSV/lab3_2.csv'))"
      ],
      "execution_count": 22,
      "outputs": []
    },
    {
      "cell_type": "code",
      "metadata": {
        "id": "aLUfkrJiFlPb"
      },
      "source": [
        ""
      ],
      "execution_count": 37,
      "outputs": []
    },
    {
      "cell_type": "code",
      "metadata": {
        "colab": {
          "base_uri": "https://localhost:8080/"
        },
        "id": "mSjFB4mfFlTh",
        "outputId": "bcab8a19-8eea-4e8c-eed1-1d7e1e56bf2e"
      },
      "source": [
        "attribute_names = list(df_tennis.columns)\r\n",
        "attribute_names.remove('play')\r\n",
        "attribute_names"
      ],
      "execution_count": 24,
      "outputs": [
        {
          "output_type": "execute_result",
          "data": {
            "text/plain": [
              "['outlook', 'temp', 'humidity', 'windy']"
            ]
          },
          "metadata": {
            "tags": []
          },
          "execution_count": 24
        }
      ]
    },
    {
      "cell_type": "code",
      "metadata": {
        "id": "3Blg8WJVFlae"
      },
      "source": [
        "def entropy_of_list(a_list):\r\n",
        "  from collections import Counter\r\n",
        "  cnt = Counter(x for x in a_list)\r\n",
        "  num_instances = len(a_list)*1.0\r\n",
        "  probs = [x/num_instances for x in cnt.values()]\r\n",
        "  return entropy(probs)"
      ],
      "execution_count": 25,
      "outputs": []
    },
    {
      "cell_type": "code",
      "metadata": {
        "id": "sSYWYawMFldp"
      },
      "source": [
        "def entropy(probs):\r\n",
        "  import math\r\n",
        "  return sum([-prob*math.log(prob,2) for prob in probs])\r\n",
        "  "
      ],
      "execution_count": 26,
      "outputs": []
    },
    {
      "cell_type": "code",
      "metadata": {
        "id": "6uaCPyWxFlhU"
      },
      "source": [
        "total_entropy = entropy_of_list(df_tennis['play'])"
      ],
      "execution_count": 27,
      "outputs": []
    },
    {
      "cell_type": "code",
      "metadata": {
        "id": "_L26jaFrItQW"
      },
      "source": [
        "def information_gain(df,split_attribute_name,target_attribute_name,trace=0):\r\n",
        "  df_split = df.groupby(split_attribute_name)\r\n",
        "  nobs = len(df.index)*1.0\r\n",
        "  df_agg_ent = df_split.agg({target_attribute_name:[entropy_of_list,lambda x:len(x)/nobs]})\r\n",
        "  df_agg_ent.columns=['Entropy','propobservations']\r\n",
        "  new_entropy = sum(df_agg_ent['Entropy']*df_agg_ent['propobservations'])\r\n",
        "  old_entropy = entropy_of_list(df[target_attribute_name])\r\n",
        "  return old_entropy-new_entropy"
      ],
      "execution_count": 34,
      "outputs": []
    },
    {
      "cell_type": "code",
      "metadata": {
        "id": "KhgES7nMItTg"
      },
      "source": [
        "def id3(df,target_attribute_name,attribute_names,default_class=None):\r\n",
        "  from collections import Counter\r\n",
        "  cut = Counter(x for x in df[target_attribute_name])\r\n",
        "  if len(cut) == 1:\r\n",
        "    return next(iter(cut))\r\n",
        "  elif df.empty or (not attribute_names):\r\n",
        "    return default_class\r\n",
        "  else:\r\n",
        "    default_class = max(cut.keys())\r\n",
        "    gainz = [information_gain(df,attr,target_attribute_name) for attr in attribute_names]\r\n",
        "    index_of_max = gainz.index(max(gainz))\r\n",
        "    best_attr = attribute_names[index_of_max]\r\n",
        "    tree = {best_attr:{}}\r\n",
        "    remaining_attribute_names = [i for i in attribute_names if i!=best_attr]\r\n",
        "    for attr_val,data_subset in df.groupby(best_attr):\r\n",
        "      subtree = id3(data_subset,target_attribute_name,remaining_attribute_names,default_class)\r\n",
        "      tree[best_attr][attr_val] = subtree\r\n",
        "  return tree"
      ],
      "execution_count": 35,
      "outputs": []
    },
    {
      "cell_type": "code",
      "metadata": {
        "colab": {
          "base_uri": "https://localhost:8080/"
        },
        "id": "vPzyYTjuItpG",
        "outputId": "489e1394-c849-4c74-845e-3a77df4f6ff8"
      },
      "source": [
        "from pprint import pprint\r\n",
        "tree = id3(df_tennis,'play',attribute_names)\r\n",
        "print(\"\\n\\n The Resultant Decission Tree is :\\n\")\r\n",
        "pprint(tree)"
      ],
      "execution_count": 36,
      "outputs": [
        {
          "output_type": "stream",
          "text": [
            "\n",
            "\n",
            " The Resultant Decission Tree is :\n",
            "\n",
            "{'outlook': {'overcast': 'yes',\n",
            "             'rainy': {'windy': {'Strong': 'no', 'Weak': 'yes'}},\n",
            "             'sunny': {'humidity': {'high': 'no', 'normal': 'yes'}}}}\n"
          ],
          "name": "stdout"
        }
      ]
    },
    {
      "cell_type": "code",
      "metadata": {
        "id": "YfHOhGWHIt0q"
      },
      "source": [
        ""
      ],
      "execution_count": null,
      "outputs": []
    },
    {
      "cell_type": "code",
      "metadata": {
        "id": "EsxhVYpdIt3p"
      },
      "source": [
        ""
      ],
      "execution_count": null,
      "outputs": []
    }
  ]
}